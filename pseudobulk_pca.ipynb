{
 "cells": [
  {
   "cell_type": "code",
   "execution_count": null,
   "metadata": {},
   "outputs": [],
   "source": [
    "import pandas as pd\n",
    "import numpy as np\n",
    "import seaborn as sns\n",
    "import matplotlib.pyplot as plt\n",
    "from sklearn.decomposition import PCA\n",
    "# Plot PCA after running DESeq2\n",
    "normalized_counts = dds.to_df('vst_counts')\n",
    "# Run PCA on DESeq2 normalized counts\n",
    "pca = PCA(n_components=2)\n",
    "pca_result = pca.fit_transform(normalized_counts)\n",
    "pca_df = pd.DataFrame(pca_result, columns=[\"PC1\", \"PC2\"], index=normalized_counts.T.columns)\n",
    "# Merge with metadata for coloring by category\n",
    "pca_df = pca_df.merge(coldata, left_index=True, right_index=True)\n",
    "\n",
    "def plot_pca_results(pca_df, color_by):\n",
    "    \"\"\"\n",
    "    Plot PCA results, colored by metadata.\n",
    "    Parameters:\n",
    "    - pca_df: Pandas DataFrame -> DataFrame containing PCA results with 'PC1' and 'PC2'.\n",
    "    - color_by: str or list of str -> Metadata column(s) to color by.\n",
    "    \"\"\"\n",
    "    # Ensure color_by is a list\n",
    "    if isinstance(color_by, str):\n",
    "        color_by = [color_by]\n",
    "    # Iterate over each metadata column and plot\n",
    "    for col in color_by:\n",
    "        plt.figure(figsize=(8, 6))\n",
    "        scatter = plt.scatter(\n",
    "            pca_df[\"PC1\"], pca_df[\"PC2\"],\n",
    "            c=pca_df[col].astype(“category”).cat.codes, cmap=“viridis”, s=80, alpha=0.8\n",
    "        )\n",
    "        plt.xlabel(\"PC1\")\n",
    "        plt.ylabel(\"PC2\")\n",
    "        plt.title(f”PCA of Samples Colored by {col}“)\n",
    "        plt.colorbar(scatter, label=col)\n",
    "        plt.show()"
   ]
  }
 ],
 "metadata": {
  "language_info": {
   "name": "python"
  }
 },
 "nbformat": 4,
 "nbformat_minor": 2
}
